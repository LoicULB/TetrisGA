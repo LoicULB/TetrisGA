{
 "cells": [
  {
   "cell_type": "code",
   "execution_count": 9,
   "outputs": [],
   "source": [
    "import pandas as pd"
   ],
   "metadata": {
    "collapsed": false,
    "pycharm": {
     "name": "#%%\n"
    }
   }
  },
  {
   "cell_type": "code",
   "execution_count": 10,
   "outputs": [],
   "source": [
    "run_1_ga = pd.read_csv(\"Evaluations/saved_score_evaluation_ga_run_1.csv\")\n",
    "run_better_dqn = pd.read_csv(\"Evaluations/DQN_better.csv\")\n",
    "run_dqn = pd.read_csv(\"Evaluations/DQN_performances.csv\")"
   ],
   "metadata": {
    "collapsed": false,
    "pycharm": {
     "name": "#%%\n"
    }
   }
  },
  {
   "cell_type": "code",
   "execution_count": 11,
   "outputs": [
    {
     "data": {
      "text/plain": "   score\n0    699\n1     11\n2     11\n3    143\n4    119",
      "text/html": "<div>\n<style scoped>\n    .dataframe tbody tr th:only-of-type {\n        vertical-align: middle;\n    }\n\n    .dataframe tbody tr th {\n        vertical-align: top;\n    }\n\n    .dataframe thead th {\n        text-align: right;\n    }\n</style>\n<table border=\"1\" class=\"dataframe\">\n  <thead>\n    <tr style=\"text-align: right;\">\n      <th></th>\n      <th>score</th>\n    </tr>\n  </thead>\n  <tbody>\n    <tr>\n      <th>0</th>\n      <td>699</td>\n    </tr>\n    <tr>\n      <th>1</th>\n      <td>11</td>\n    </tr>\n    <tr>\n      <th>2</th>\n      <td>11</td>\n    </tr>\n    <tr>\n      <th>3</th>\n      <td>143</td>\n    </tr>\n    <tr>\n      <th>4</th>\n      <td>119</td>\n    </tr>\n  </tbody>\n</table>\n</div>"
     },
     "execution_count": 11,
     "metadata": {},
     "output_type": "execute_result"
    }
   ],
   "source": [
    "run_1_ga.head()\n",
    "run_dqn.head()"
   ],
   "metadata": {
    "collapsed": false,
    "pycharm": {
     "name": "#%%\n"
    }
   }
  },
  {
   "cell_type": "code",
   "execution_count": 12,
   "outputs": [],
   "source": [
    "run_1_ga.rename({\"score\": \"score_ga\"},axis=1, inplace=True)\n",
    "run_1_ga.head()\n",
    "run_dqn.rename({\"score\": \"score_dqn\"},axis=1, inplace=True)\n",
    "run_dqn.head(25)\n",
    "run_better_dqn.rename({\"score\": \"score_dqn_previous_best\"},axis=1, inplace=True)\n",
    "merge_df = pd.concat([run_1_ga, run_dqn.head(25), run_better_dqn] , axis=1)\n"
   ],
   "metadata": {
    "collapsed": false,
    "pycharm": {
     "name": "#%%\n"
    }
   }
  },
  {
   "cell_type": "code",
   "execution_count": 13,
   "outputs": [
    {
     "data": {
      "text/plain": "                                mean          std\nscore_ga                 8828.880000  1183.551271\nscore_dqn                 162.120000   225.493961\nscore_dqn_previous_best  3262.818182   121.063469",
      "text/html": "<div>\n<style scoped>\n    .dataframe tbody tr th:only-of-type {\n        vertical-align: middle;\n    }\n\n    .dataframe tbody tr th {\n        vertical-align: top;\n    }\n\n    .dataframe thead th {\n        text-align: right;\n    }\n</style>\n<table border=\"1\" class=\"dataframe\">\n  <thead>\n    <tr style=\"text-align: right;\">\n      <th></th>\n      <th>mean</th>\n      <th>std</th>\n    </tr>\n  </thead>\n  <tbody>\n    <tr>\n      <th>score_ga</th>\n      <td>8828.880000</td>\n      <td>1183.551271</td>\n    </tr>\n    <tr>\n      <th>score_dqn</th>\n      <td>162.120000</td>\n      <td>225.493961</td>\n    </tr>\n    <tr>\n      <th>score_dqn_previous_best</th>\n      <td>3262.818182</td>\n      <td>121.063469</td>\n    </tr>\n  </tbody>\n</table>\n</div>"
     },
     "execution_count": 13,
     "metadata": {},
     "output_type": "execute_result"
    }
   ],
   "source": [
    "mean = merge_df.mean()\n",
    "mean.rename(\"mean\", inplace=True)\n",
    "std = merge_df.std()\n",
    "std.rename(\"std\", inplace=True)\n",
    "aggregate= pd.concat([mean,std], axis=1)\n",
    "\n",
    "aggregate"
   ],
   "metadata": {
    "collapsed": false,
    "pycharm": {
     "name": "#%%\n"
    }
   }
  },
  {
   "cell_type": "code",
   "execution_count": 19,
   "outputs": [
    {
     "data": {
      "text/plain": "<AxesSubplot:title={'center':'Comparaison of scores between GA agent and DQN one'}, xlabel='Agent', ylabel='Score'>"
     },
     "execution_count": 19,
     "metadata": {},
     "output_type": "execute_result"
    },
    {
     "data": {
      "text/plain": "<Figure size 432x288 with 1 Axes>",
      "image/png": "[encoded data removed]"
     },
     "metadata": {
      "needs_background": "light"
     },
     "output_type": "display_data"
    }
   ],
   "source": [
    "aggregate.plot(kind=\"bar\", y=\"mean\", yerr=\"std\", title=\"Comparaison of scores between GA agent and DQN one\", ylabel=\"Score\", xlabel=\"Agent\", color=['C0', 'C1', 'C2'], stacked=True)\n"
   ],
   "metadata": {
    "collapsed": false,
    "pycharm": {
     "name": "#%%\n"
    }
   }
  },
  {
   "cell_type": "markdown",
   "source": [
    "We can see in this graph that a genetic agent trained with the same amount of time as a dqn is singificantlay better than the GA one"
   ],
   "metadata": {
    "collapsed": false,
    "pycharm": {
     "name": "#%% md\n"
    }
   }
  },
  {
   "cell_type": "code",
   "execution_count": 14,
   "outputs": [],
   "source": [],
   "metadata": {
    "collapsed": false,
    "pycharm": {
     "name": "#%%\n"
    }
   }
  }
 ],
 "metadata": {
  "kernelspec": {
   "display_name": "Python 3",
   "language": "python",
   "name": "python3"
  },
  "language_info": {
   "codemirror_mode": {
    "name": "ipython",
    "version": 2
   },
   "file_extension": ".py",
   "mimetype": "text/x-python",
   "name": "python",
   "nbconvert_exporter": "python",
   "pygments_lexer": "ipython2",
   "version": "2.7.6"
  }
 },
 "nbformat": 4,
 "nbformat_minor": 0
}