{
 "cells": [
  {
   "cell_type": "code",
   "execution_count": 4,
   "metadata": {
    "collapsed": true
   },
   "outputs": [],
   "source": [
    "import pandas as pd\n",
    "\n",
    "from SaveModel import get_agent_dict, save_gen\n",
    "from TetrisAgents import GeneticAgent\n",
    "\n",
    "agent = GeneticAgent()\n",
    "agent.weight_holes= 0.1\n",
    "agent.weight_height = 0.2\n",
    "agent.weight_bumpiness = 0.3\n",
    "agent.weight_line_clear = 0.4\n",
    "agent.weight_hollow_columns = 0.5\n",
    "agent.weight_row_transition = 0.6\n",
    "agent.weight_col_transition = 0.7\n",
    "agent.weight_pit_count = 0.8\n",
    "agent.weight_to_consider = [i for i in range(8)]"
   ]
  },
  {
   "cell_type": "markdown",
   "source": [
    "# Analyze of heuristics perf"
   ],
   "metadata": {
    "collapsed": false,
    "pycharm": {
     "name": "#%% md\n"
    }
   }
  },
  {
   "cell_type": "code",
   "execution_count": 16,
   "outputs": [],
   "source": [
    "df1 = pd.read_csv(\"./SavedModel/model_gen_1.csv\")\n",
    "df2 = pd.read_csv(\"./SavedModel/model_gen_2.csv\")\n",
    "df3 = pd.read_csv(\"./SavedModel/model_gen_3.csv\")\n",
    "df4 = pd.read_csv(\"./SavedModel/model_gen_4.csv\")"
   ],
   "metadata": {
    "collapsed": false,
    "pycharm": {
     "name": "#%%\n"
    }
   }
  },
  {
   "cell_type": "code",
   "source": [
    "stacked_df = pd.concat([df1,df2,df3,df4], axis=0)\n",
    "stacked_df"
   ],
   "metadata": {
    "collapsed": false,
    "pycharm": {
     "name": "#%%\n"
    }
   },
   "execution_count": 18,
   "outputs": [
    {
     "data": {
      "text/plain": "   weight_holes  weight_height  weight_bumpiness  weight_line_clear  \\\n0     -0.535138      -0.662839         -0.745681           0.738586   \n1     -0.349459      -0.839579          0.535534          -0.755863   \n2     -0.552973      -0.792262          0.019694           0.504198   \n3     -0.051879      -0.531161          0.694978           0.567756   \n4      0.123643       0.371177         -0.798461          -0.210473   \n5      0.477187      -0.845459         -0.876935           0.469392   \n6     -0.536784       0.329250         -0.793871           0.219173   \n7      0.332766       0.857701         -0.620125           0.019562   \n8     -0.955780       0.753943          0.419278           0.203252   \n0     -0.535138      -0.662839         -0.745681           0.738586   \n1      0.991109      -0.418974          0.962051           0.226481   \n2     -0.193932      -0.761132         -0.924727          -0.821293   \n3      0.262880       0.923710          0.772313          -0.981803   \n4      0.200349      -0.751992         -0.632009           0.226546   \n5      0.091329       0.521791         -0.144383          -0.036181   \n6     -0.806282       0.699259         -0.271548          -0.392703   \n7      0.157803       0.263602          0.968310           0.472515   \n8      0.496788      -0.434267         -0.297046          -0.110364   \n0     -0.535138      -0.662839         -0.745681           0.738586   \n1      0.553993       0.409783         -0.912698           0.667175   \n2     -0.506938       0.285709          0.613153          -0.217014   \n3     -0.529945      -0.809176         -0.971001           0.894682   \n4     -0.793539       0.136821         -0.337347          -0.921610   \n5     -0.728348      -0.672454         -0.255422           0.305870   \n6     -0.715161       0.768388         -0.978399           0.389368   \n7     -0.803583      -0.318456         -0.126509          -0.566329   \n8      0.654613       0.155539         -0.512719           0.628654   \n0      0.553993       0.409783         -0.912698           0.667175   \n1     -0.565797       0.044456          0.211733          -0.013006   \n2     -0.830102      -0.245576          0.475910           0.055142   \n3      0.512147      -0.045427          0.329888          -0.483873   \n4     -0.545867       0.235577          0.340351          -0.550846   \n5     -0.539396      -0.985315          0.522114           0.114439   \n6      0.558552      -0.975519         -0.007342          -0.874891   \n7      0.414083      -0.661397          0.290283           0.369784   \n8     -0.306504       0.519922          0.829558          -0.078846   \n\n   weight_hollow_columns  weight_row_transition  weight_col_transition  \\\n0              -0.359832              -0.992648               0.017118   \n1               0.561825               0.672838              -0.095787   \n2               0.858716               0.823134               0.485613   \n3              -0.949255               0.309393               0.346783   \n4               0.910273               0.453414               0.420419   \n5              -0.402907               0.511235              -0.862794   \n6               0.136718               0.244709              -0.942653   \n7               0.534868               0.705825               0.561883   \n8              -0.467824               0.253792              -0.191445   \n0              -0.359832              -0.992648               0.017118   \n1              -0.163240               0.027240              -0.643570   \n2               0.313934              -0.163350              -0.124953   \n3               0.988473               0.354046               0.523792   \n4              -0.929110              -0.871097               0.216618   \n5              -0.417277               0.819887              -0.993242   \n6               0.137868               0.755973              -0.535333   \n7               0.732284               0.434215               0.638964   \n8              -0.357643               0.130910              -0.814900   \n0              -0.359832              -0.992648               0.017118   \n1              -0.632472               0.997023               0.986752   \n2               0.171202               0.820608               0.384446   \n3               0.188977              -0.260913               0.039292   \n4              -0.344801               0.443063               0.741063   \n5               0.963183              -0.778486              -0.721588   \n6               0.216779               0.761132              -0.354949   \n7               0.475726               0.413321               0.429557   \n8               0.905457              -0.031530               0.797693   \n0              -0.632472               0.997023               0.986752   \n1               0.748907              -0.292007              -0.216213   \n2              -0.601128              -0.158216              -0.222199   \n3               0.441565               0.636048              -0.083510   \n4              -0.828118              -0.365516               0.218724   \n5              -0.647426              -0.414947              -0.527925   \n6              -0.005390               0.603340              -0.563800   \n7               0.152334               0.362675              -0.728445   \n8              -0.157776               0.091332              -0.565229   \n\n   weight_pit_count       weight_to_consider     score  \n0         -0.975033  [0, 1, 2, 3, 4, 5, 6, 7]  366.369  \n1         -0.529885  [0, 1, 2, 3, 4, 5, 6, 7]   13.034  \n2          0.554527  [0, 1, 2, 3, 4, 5, 6, 7]   17.053  \n3          0.955216  [0, 1, 2, 3, 4, 5, 6, 7]    9.018  \n4         -0.950124  [0, 1, 2, 3, 4, 5, 6, 7]   24.062  \n5          0.021965  [0, 1, 2, 3, 4, 5, 6, 7]   20.058  \n6         -0.043263  [0, 1, 2, 3, 4, 5, 6, 7]   19.065  \n7         -0.017945  [0, 1, 2, 3, 4, 5, 6, 7]   14.033  \n8         -0.160018  [0, 1, 2, 3, 4, 5, 6, 7]   12.028  \n0         -0.975033  [0, 1, 2, 3, 4, 5, 6, 7]  358.370  \n1          0.305258  [0, 1, 2, 3, 4, 5, 6, 7]   36.072  \n2         -0.620667  [0, 1, 2, 3, 4, 5, 6, 7]   20.050  \n3         -0.324931  [0, 1, 2, 3, 4, 5, 6, 7]   20.053  \n4          0.490796  [0, 1, 2, 3, 4, 5, 6, 7]   41.088  \n5         -0.177533  [0, 1, 2, 3, 4, 5, 6, 7]   39.083  \n6          0.681769  [0, 1, 2, 3, 4, 5, 6, 7]   36.076  \n7          0.787804  [0, 1, 2, 3, 4, 5, 6, 7]   40.068  \n8          0.870148  [0, 1, 2, 3, 4, 5, 6, 7]   45.088  \n0         -0.975033  [0, 1, 2, 3, 4, 5, 6, 7]  360.364  \n1         -0.913016  [0, 1, 2, 3, 4, 5, 6, 7]  385.363  \n2          0.148141  [0, 1, 2, 3, 4, 5, 6, 7]  342.366  \n3          0.197059  [0, 1, 2, 3, 4, 5, 6, 7]   19.047  \n4          0.641958  [0, 1, 2, 3, 4, 5, 6, 7]  181.219  \n5          0.906852  [0, 1, 2, 3, 4, 5, 6, 7]  331.365  \n6          0.494934  [0, 1, 2, 3, 4, 5, 6, 7]   15.035  \n7          0.668955  [0, 1, 2, 3, 4, 5, 6, 7]  348.368  \n8          0.057447  [0, 1, 2, 3, 4, 5, 6, 7]   30.067  \n0         -0.913016  [0, 1, 2, 3, 4, 5, 6, 7]  365.363  \n1         -0.038895  [0, 1, 2, 3, 4, 5, 6, 7]   37.079  \n2         -0.069362  [0, 1, 2, 3, 4, 5, 6, 7]  317.367  \n3         -0.923776  [0, 1, 2, 3, 4, 5, 6, 7]  342.366  \n4         -0.102969  [0, 1, 2, 3, 4, 5, 6, 7]  153.180  \n5         -0.490024  [0, 1, 2, 3, 4, 5, 6, 7]  346.366  \n6         -0.922851  [0, 1, 2, 3, 4, 5, 6, 7]   19.047  \n7         -0.114461  [0, 1, 2, 3, 4, 5, 6, 7]  392.364  \n8         -0.100617  [0, 1, 2, 3, 4, 5, 6, 7]   19.048  ",
      "text/html": "<div>\n<style scoped>\n    .dataframe tbody tr th:only-of-type {\n        vertical-align: middle;\n    }\n\n    .dataframe tbody tr th {\n        vertical-align: top;\n    }\n\n    .dataframe thead th {\n        text-align: right;\n    }\n</style>\n<table border=\"1\" class=\"dataframe\">\n  <thead>\n    <tr style=\"text-align: right;\">\n      <th></th>\n      <th>weight_holes</th>\n      <th>weight_height</th>\n      <th>weight_bumpiness</th>\n      <th>weight_line_clear</th>\n      <th>weight_hollow_columns</th>\n      <th>weight_row_transition</th>\n      <th>weight_col_transition</th>\n      <th>weight_pit_count</th>\n      <th>weight_to_consider</th>\n      <th>score</th>\n    </tr>\n  </thead>\n  <tbody>\n    <tr>\n      <th>0</th>\n      <td>-0.535138</td>\n      <td>-0.662839</td>\n      <td>-0.745681</td>\n      <td>0.738586</td>\n      <td>-0.359832</td>\n      <td>-0.992648</td>\n      <td>0.017118</td>\n      <td>-0.975033</td>\n      <td>[0, 1, 2, 3, 4, 5, 6, 7]</td>\n      <td>366.369</td>\n    </tr>\n    <tr>\n      <th>1</th>\n      <td>-0.349459</td>\n      <td>-0.839579</td>\n      <td>0.535534</td>\n      <td>-0.755863</td>\n      <td>0.561825</td>\n      <td>0.672838</td>\n      <td>-0.095787</td>\n      <td>-0.529885</td>\n      <td>[0, 1, 2, 3, 4, 5, 6, 7]</td>\n      <td>13.034</td>\n    </tr>\n    <tr>\n      <th>2</th>\n      <td>-0.552973</td>\n      <td>-0.792262</td>\n      <td>0.019694</td>\n      <td>0.504198</td>\n      <td>0.858716</td>\n      <td>0.823134</td>\n      <td>0.485613</td>\n      <td>0.554527</td>\n      <td>[0, 1, 2, 3, 4, 5, 6, 7]</td>\n      <td>17.053</td>\n    </tr>\n    <tr>\n      <th>3</th>\n      <td>-0.051879</td>\n      <td>-0.531161</td>\n      <td>0.694978</td>\n      <td>0.567756</td>\n      <td>-0.949255</td>\n      <td>0.309393</td>\n      <td>0.346783</td>\n      <td>0.955216</td>\n      <td>[0, 1, 2, 3, 4, 5, 6, 7]</td>\n      <td>9.018</td>\n    </tr>\n    <tr>\n      <th>4</th>\n      <td>0.123643</td>\n      <td>0.371177</td>\n      <td>-0.798461</td>\n      <td>-0.210473</td>\n      <td>0.910273</td>\n      <td>0.453414</td>\n      <td>0.420419</td>\n      <td>-0.950124</td>\n      <td>[0, 1, 2, 3, 4, 5, 6, 7]</td>\n      <td>24.062</td>\n    </tr>\n    <tr>\n      <th>5</th>\n      <td>0.477187</td>\n      <td>-0.845459</td>\n      <td>-0.876935</td>\n      <td>0.469392</td>\n      <td>-0.402907</td>\n      <td>0.511235</td>\n      <td>-0.862794</td>\n      <td>0.021965</td>\n      <td>[0, 1, 2, 3, 4, 5, 6, 7]</td>\n      <td>20.058</td>\n    </tr>\n    <tr>\n      <th>6</th>\n      <td>-0.536784</td>\n      <td>0.329250</td>\n      <td>-0.793871</td>\n      <td>0.219173</td>\n      <td>0.136718</td>\n      <td>0.244709</td>\n      <td>-0.942653</td>\n      <td>-0.043263</td>\n      <td>[0, 1, 2, 3, 4, 5, 6, 7]</td>\n      <td>19.065</td>\n    </tr>\n    <tr>\n      <th>7</th>\n      <td>0.332766</td>\n      <td>0.857701</td>\n      <td>-0.620125</td>\n      <td>0.019562</td>\n      <td>0.534868</td>\n      <td>0.705825</td>\n      <td>0.561883</td>\n      <td>-0.017945</td>\n      <td>[0, 1, 2, 3, 4, 5, 6, 7]</td>\n      <td>14.033</td>\n    </tr>\n    <tr>\n      <th>8</th>\n      <td>-0.955780</td>\n      <td>0.753943</td>\n      <td>0.419278</td>\n      <td>0.203252</td>\n      <td>-0.467824</td>\n      <td>0.253792</td>\n      <td>-0.191445</td>\n      <td>-0.160018</td>\n      <td>[0, 1, 2, 3, 4, 5, 6, 7]</td>\n      <td>12.028</td>\n    </tr>\n    <tr>\n      <th>0</th>\n      <td>-0.535138</td>\n      <td>-0.662839</td>\n      <td>-0.745681</td>\n      <td>0.738586</td>\n      <td>-0.359832</td>\n      <td>-0.992648</td>\n      <td>0.017118</td>\n      <td>-0.975033</td>\n      <td>[0, 1, 2, 3, 4, 5, 6, 7]</td>\n      <td>358.370</td>\n    </tr>\n    <tr>\n      <th>1</th>\n      <td>0.991109</td>\n      <td>-0.418974</td>\n      <td>0.962051</td>\n      <td>0.226481</td>\n      <td>-0.163240</td>\n      <td>0.027240</td>\n      <td>-0.643570</td>\n      <td>0.305258</td>\n      <td>[0, 1, 2, 3, 4, 5, 6, 7]</td>\n      <td>36.072</td>\n    </tr>\n    <tr>\n      <th>2</th>\n      <td>-0.193932</td>\n      <td>-0.761132</td>\n      <td>-0.924727</td>\n      <td>-0.821293</td>\n      <td>0.313934</td>\n      <td>-0.163350</td>\n      <td>-0.124953</td>\n      <td>-0.620667</td>\n      <td>[0, 1, 2, 3, 4, 5, 6, 7]</td>\n      <td>20.050</td>\n    </tr>\n    <tr>\n      <th>3</th>\n      <td>0.262880</td>\n      <td>0.923710</td>\n      <td>0.772313</td>\n      <td>-0.981803</td>\n      <td>0.988473</td>\n      <td>0.354046</td>\n      <td>0.523792</td>\n      <td>-0.324931</td>\n      <td>[0, 1, 2, 3, 4, 5, 6, 7]</td>\n      <td>20.053</td>\n    </tr>\n    <tr>\n      <th>4</th>\n      <td>0.200349</td>\n      <td>-0.751992</td>\n      <td>-0.632009</td>\n      <td>0.226546</td>\n      <td>-0.929110</td>\n      <td>-0.871097</td>\n      <td>0.216618</td>\n      <td>0.490796</td>\n      <td>[0, 1, 2, 3, 4, 5, 6, 7]</td>\n      <td>41.088</td>\n    </tr>\n    <tr>\n      <th>5</th>\n      <td>0.091329</td>\n      <td>0.521791</td>\n      <td>-0.144383</td>\n      <td>-0.036181</td>\n      <td>-0.417277</td>\n      <td>0.819887</td>\n      <td>-0.993242</td>\n      <td>-0.177533</td>\n      <td>[0, 1, 2, 3, 4, 5, 6, 7]</td>\n      <td>39.083</td>\n    </tr>\n    <tr>\n      <th>6</th>\n      <td>-0.806282</td>\n      <td>0.699259</td>\n      <td>-0.271548</td>\n      <td>-0.392703</td>\n      <td>0.137868</td>\n      <td>0.755973</td>\n      <td>-0.535333</td>\n      <td>0.681769</td>\n      <td>[0, 1, 2, 3, 4, 5, 6, 7]</td>\n      <td>36.076</td>\n    </tr>\n    <tr>\n      <th>7</th>\n      <td>0.157803</td>\n      <td>0.263602</td>\n      <td>0.968310</td>\n      <td>0.472515</td>\n      <td>0.732284</td>\n      <td>0.434215</td>\n      <td>0.638964</td>\n      <td>0.787804</td>\n      <td>[0, 1, 2, 3, 4, 5, 6, 7]</td>\n      <td>40.068</td>\n    </tr>\n    <tr>\n      <th>8</th>\n      <td>0.496788</td>\n      <td>-0.434267</td>\n      <td>-0.297046</td>\n      <td>-0.110364</td>\n      <td>-0.357643</td>\n      <td>0.130910</td>\n      <td>-0.814900</td>\n      <td>0.870148</td>\n      <td>[0, 1, 2, 3, 4, 5, 6, 7]</td>\n      <td>45.088</td>\n    </tr>\n    <tr>\n      <th>0</th>\n      <td>-0.535138</td>\n      <td>-0.662839</td>\n      <td>-0.745681</td>\n      <td>0.738586</td>\n      <td>-0.359832</td>\n      <td>-0.992648</td>\n      <td>0.017118</td>\n      <td>-0.975033</td>\n      <td>[0, 1, 2, 3, 4, 5, 6, 7]</td>\n      <td>360.364</td>\n    </tr>\n    <tr>\n      <th>1</th>\n      <td>0.553993</td>\n      <td>0.409783</td>\n      <td>-0.912698</td>\n      <td>0.667175</td>\n      <td>-0.632472</td>\n      <td>0.997023</td>\n      <td>0.986752</td>\n      <td>-0.913016</td>\n      <td>[0, 1, 2, 3, 4, 5, 6, 7]</td>\n      <td>385.363</td>\n    </tr>\n    <tr>\n      <th>2</th>\n      <td>-0.506938</td>\n      <td>0.285709</td>\n      <td>0.613153</td>\n      <td>-0.217014</td>\n      <td>0.171202</td>\n      <td>0.820608</td>\n      <td>0.384446</td>\n      <td>0.148141</td>\n      <td>[0, 1, 2, 3, 4, 5, 6, 7]</td>\n      <td>342.366</td>\n    </tr>\n    <tr>\n      <th>3</th>\n      <td>-0.529945</td>\n      <td>-0.809176</td>\n      <td>-0.971001</td>\n      <td>0.894682</td>\n      <td>0.188977</td>\n      <td>-0.260913</td>\n      <td>0.039292</td>\n      <td>0.197059</td>\n      <td>[0, 1, 2, 3, 4, 5, 6, 7]</td>\n      <td>19.047</td>\n    </tr>\n    <tr>\n      <th>4</th>\n      <td>-0.793539</td>\n      <td>0.136821</td>\n      <td>-0.337347</td>\n      <td>-0.921610</td>\n      <td>-0.344801</td>\n      <td>0.443063</td>\n      <td>0.741063</td>\n      <td>0.641958</td>\n      <td>[0, 1, 2, 3, 4, 5, 6, 7]</td>\n      <td>181.219</td>\n    </tr>\n    <tr>\n      <th>5</th>\n      <td>-0.728348</td>\n      <td>-0.672454</td>\n      <td>-0.255422</td>\n      <td>0.305870</td>\n      <td>0.963183</td>\n      <td>-0.778486</td>\n      <td>-0.721588</td>\n      <td>0.906852</td>\n      <td>[0, 1, 2, 3, 4, 5, 6, 7]</td>\n      <td>331.365</td>\n    </tr>\n    <tr>\n      <th>6</th>\n      <td>-0.715161</td>\n      <td>0.768388</td>\n      <td>-0.978399</td>\n      <td>0.389368</td>\n      <td>0.216779</td>\n      <td>0.761132</td>\n      <td>-0.354949</td>\n      <td>0.494934</td>\n      <td>[0, 1, 2, 3, 4, 5, 6, 7]</td>\n      <td>15.035</td>\n    </tr>\n    <tr>\n      <th>7</th>\n      <td>-0.803583</td>\n      <td>-0.318456</td>\n      <td>-0.126509</td>\n      <td>-0.566329</td>\n      <td>0.475726</td>\n      <td>0.413321</td>\n      <td>0.429557</td>\n      <td>0.668955</td>\n      <td>[0, 1, 2, 3, 4, 5, 6, 7]</td>\n      <td>348.368</td>\n    </tr>\n    <tr>\n      <th>8</th>\n      <td>0.654613</td>\n      <td>0.155539</td>\n      <td>-0.512719</td>\n      <td>0.628654</td>\n      <td>0.905457</td>\n      <td>-0.031530</td>\n      <td>0.797693</td>\n      <td>0.057447</td>\n      <td>[0, 1, 2, 3, 4, 5, 6, 7]</td>\n      <td>30.067</td>\n    </tr>\n    <tr>\n      <th>0</th>\n      <td>0.553993</td>\n      <td>0.409783</td>\n      <td>-0.912698</td>\n      <td>0.667175</td>\n      <td>-0.632472</td>\n      <td>0.997023</td>\n      <td>0.986752</td>\n      <td>-0.913016</td>\n      <td>[0, 1, 2, 3, 4, 5, 6, 7]</td>\n      <td>365.363</td>\n    </tr>\n    <tr>\n      <th>1</th>\n      <td>-0.565797</td>\n      <td>0.044456</td>\n      <td>0.211733</td>\n      <td>-0.013006</td>\n      <td>0.748907</td>\n      <td>-0.292007</td>\n      <td>-0.216213</td>\n      <td>-0.038895</td>\n      <td>[0, 1, 2, 3, 4, 5, 6, 7]</td>\n      <td>37.079</td>\n    </tr>\n    <tr>\n      <th>2</th>\n      <td>-0.830102</td>\n      <td>-0.245576</td>\n      <td>0.475910</td>\n      <td>0.055142</td>\n      <td>-0.601128</td>\n      <td>-0.158216</td>\n      <td>-0.222199</td>\n      <td>-0.069362</td>\n      <td>[0, 1, 2, 3, 4, 5, 6, 7]</td>\n      <td>317.367</td>\n    </tr>\n    <tr>\n      <th>3</th>\n      <td>0.512147</td>\n      <td>-0.045427</td>\n      <td>0.329888</td>\n      <td>-0.483873</td>\n      <td>0.441565</td>\n      <td>0.636048</td>\n      <td>-0.083510</td>\n      <td>-0.923776</td>\n      <td>[0, 1, 2, 3, 4, 5, 6, 7]</td>\n      <td>342.366</td>\n    </tr>\n    <tr>\n      <th>4</th>\n      <td>-0.545867</td>\n      <td>0.235577</td>\n      <td>0.340351</td>\n      <td>-0.550846</td>\n      <td>-0.828118</td>\n      <td>-0.365516</td>\n      <td>0.218724</td>\n      <td>-0.102969</td>\n      <td>[0, 1, 2, 3, 4, 5, 6, 7]</td>\n      <td>153.180</td>\n    </tr>\n    <tr>\n      <th>5</th>\n      <td>-0.539396</td>\n      <td>-0.985315</td>\n      <td>0.522114</td>\n      <td>0.114439</td>\n      <td>-0.647426</td>\n      <td>-0.414947</td>\n      <td>-0.527925</td>\n      <td>-0.490024</td>\n      <td>[0, 1, 2, 3, 4, 5, 6, 7]</td>\n      <td>346.366</td>\n    </tr>\n    <tr>\n      <th>6</th>\n      <td>0.558552</td>\n      <td>-0.975519</td>\n      <td>-0.007342</td>\n      <td>-0.874891</td>\n      <td>-0.005390</td>\n      <td>0.603340</td>\n      <td>-0.563800</td>\n      <td>-0.922851</td>\n      <td>[0, 1, 2, 3, 4, 5, 6, 7]</td>\n      <td>19.047</td>\n    </tr>\n    <tr>\n      <th>7</th>\n      <td>0.414083</td>\n      <td>-0.661397</td>\n      <td>0.290283</td>\n      <td>0.369784</td>\n      <td>0.152334</td>\n      <td>0.362675</td>\n      <td>-0.728445</td>\n      <td>-0.114461</td>\n      <td>[0, 1, 2, 3, 4, 5, 6, 7]</td>\n      <td>392.364</td>\n    </tr>\n    <tr>\n      <th>8</th>\n      <td>-0.306504</td>\n      <td>0.519922</td>\n      <td>0.829558</td>\n      <td>-0.078846</td>\n      <td>-0.157776</td>\n      <td>0.091332</td>\n      <td>-0.565229</td>\n      <td>-0.100617</td>\n      <td>[0, 1, 2, 3, 4, 5, 6, 7]</td>\n      <td>19.048</td>\n    </tr>\n  </tbody>\n</table>\n</div>"
     },
     "execution_count": 18,
     "metadata": {},
     "output_type": "execute_result"
    }
   ]
  },
  {
   "cell_type": "code",
   "execution_count": 23,
   "outputs": [
    {
     "data": {
      "text/plain": "weight_holes            -0.133386\nweight_height           -0.204162\nweight_bumpiness        -0.073009\nweight_line_clear        0.210940\nweight_hollow_columns   -0.237412\nweight_row_transition   -0.232077\nweight_col_transition    0.161111\nweight_pit_count        -0.344774\nscore                    1.000000\nName: score, dtype: float64"
     },
     "execution_count": 23,
     "metadata": {},
     "output_type": "execute_result"
    }
   ],
   "source": [
    "stacked_df.corr()[\"score\"]"
   ],
   "metadata": {
    "collapsed": false,
    "pycharm": {
     "name": "#%%\n"
    }
   }
  },
  {
   "cell_type": "code",
   "execution_count": 24,
   "outputs": [
    {
     "data": {
      "text/plain": "weight_holes            -0.230569\nweight_height           -0.265526\nweight_bumpiness        -0.321745\nweight_line_clear        0.438334\nweight_hollow_columns   -0.234252\nweight_row_transition   -0.921400\nweight_col_transition    0.021328\nweight_pit_count        -0.518864\nscore                    1.000000\nName: score, dtype: float64"
     },
     "execution_count": 24,
     "metadata": {},
     "output_type": "execute_result"
    }
   ],
   "source": [
    "df1.corr()[\"score\"]"
   ],
   "metadata": {
    "collapsed": false,
    "pycharm": {
     "name": "#%%\n"
    }
   }
  },
  {
   "cell_type": "code",
   "execution_count": 26,
   "outputs": [
    {
     "data": {
      "text/plain": "weight_holes            -0.409881\nweight_height           -0.344455\nweight_bumpiness        -0.355601\nweight_line_clear        0.589066\nweight_hollow_columns   -0.268337\nweight_row_transition   -0.607878\nweight_col_transition    0.101584\nweight_pit_count        -0.559840\nscore                    1.000000\nName: score, dtype: float64"
     },
     "execution_count": 26,
     "metadata": {},
     "output_type": "execute_result"
    }
   ],
   "source": [
    "df2.corr()[\"score\"]"
   ],
   "metadata": {
    "collapsed": false,
    "pycharm": {
     "name": "#%%\n"
    }
   }
  },
  {
   "cell_type": "code",
   "execution_count": 27,
   "outputs": [
    {
     "data": {
      "text/plain": "weight_holes            -0.078146\nweight_height           -0.184440\nweight_bumpiness         0.441649\nweight_line_clear       -0.243910\nweight_hollow_columns   -0.295634\nweight_row_transition   -0.029723\nweight_col_transition    0.086689\nweight_pit_count        -0.303011\nscore                    1.000000\nName: score, dtype: float64"
     },
     "execution_count": 27,
     "metadata": {},
     "output_type": "execute_result"
    }
   ],
   "source": [
    "df3.corr()[\"score\"]"
   ],
   "metadata": {
    "collapsed": false,
    "pycharm": {
     "name": "#%%\n"
    }
   }
  },
  {
   "cell_type": "code",
   "execution_count": 29,
   "outputs": [
    {
     "data": {
      "text/plain": "weight_holes             0.207779\nweight_height           -0.187527\nweight_bumpiness        -0.252933\nweight_line_clear        0.568823\nweight_hollow_columns   -0.279453\nweight_row_transition    0.232491\nweight_col_transition    0.252376\nweight_pit_count        -0.208255\nscore                    1.000000\nName: score, dtype: float64"
     },
     "execution_count": 29,
     "metadata": {},
     "output_type": "execute_result"
    }
   ],
   "source": [
    "df4.corr()[\"score\"]"
   ],
   "metadata": {
    "collapsed": false,
    "pycharm": {
     "name": "#%%\n"
    }
   }
  },
  {
   "cell_type": "code",
   "execution_count": 35,
   "outputs": [
    {
     "data": {
      "text/plain": "weight_holes            -0.230569\nweight_height           -0.265526\nweight_bumpiness        -0.321745\nweight_line_clear        0.438334\nweight_hollow_columns   -0.234252\nweight_row_transition   -0.921400\nweight_col_transition    0.021328\nweight_pit_count        -0.518864\nscore                    1.000000\nName: score, dtype: float64"
     },
     "execution_count": 35,
     "metadata": {},
     "output_type": "execute_result"
    }
   ],
   "source": [
    "df1.corr()[\"score\"]"
   ],
   "metadata": {
    "collapsed": false,
    "pycharm": {
     "name": "#%%\n"
    }
   }
  },
  {
   "cell_type": "markdown",
   "source": [
    "# Graph evolution correlation"
   ],
   "metadata": {
    "collapsed": false,
    "pycharm": {
     "name": "#%% md\n"
    }
   }
  },
  {
   "cell_type": "code",
   "execution_count": 44,
   "outputs": [
    {
     "data": {
      "text/plain": "Empty DataFrame\nColumns: [weight_holes, weight_height, weight_bumpiness, weight_line_clear, weight_hollow_columns, weight_row_transition, weight_col_transition, weight_pit_count, weight_to_consider , score]\nIndex: []",
      "text/html": "<div>\n<style scoped>\n    .dataframe tbody tr th:only-of-type {\n        vertical-align: middle;\n    }\n\n    .dataframe tbody tr th {\n        vertical-align: top;\n    }\n\n    .dataframe thead th {\n        text-align: right;\n    }\n</style>\n<table border=\"1\" class=\"dataframe\">\n  <thead>\n    <tr style=\"text-align: right;\">\n      <th></th>\n      <th>weight_holes</th>\n      <th>weight_height</th>\n      <th>weight_bumpiness</th>\n      <th>weight_line_clear</th>\n      <th>weight_hollow_columns</th>\n      <th>weight_row_transition</th>\n      <th>weight_col_transition</th>\n      <th>weight_pit_count</th>\n      <th>weight_to_consider</th>\n      <th>score</th>\n    </tr>\n  </thead>\n  <tbody>\n  </tbody>\n</table>\n</div>"
     },
     "execution_count": 44,
     "metadata": {},
     "output_type": "execute_result"
    }
   ],
   "source": [
    "data_frame = pd.DataFrame(columns=list(df1.columns))\n",
    "\n",
    "data_frame.\n",
    "data_frame"
   ],
   "metadata": {
    "collapsed": false,
    "pycharm": {
     "name": "#%%\n"
    }
   }
  }
 ],
 "metadata": {
  "kernelspec": {
   "display_name": "Python 3",
   "language": "python",
   "name": "python3"
  },
  "language_info": {
   "codemirror_mode": {
    "name": "ipython",
    "version": 2
   },
   "file_extension": ".py",
   "mimetype": "text/x-python",
   "name": "python",
   "nbconvert_exporter": "python",
   "pygments_lexer": "ipython2",
   "version": "2.7.6"
  }
 },
 "nbformat": 4,
 "nbformat_minor": 0
}