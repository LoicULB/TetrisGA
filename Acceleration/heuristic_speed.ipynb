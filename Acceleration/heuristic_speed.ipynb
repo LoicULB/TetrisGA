{
 "cells": [
  {
   "cell_type": "code",
   "execution_count": 109,
   "metadata": {
    "collapsed": true
   },
   "outputs": [],
   "source": [
    "\n",
    "\n",
    "import TetrisUtils\n",
    "from test_TetrisUtils import board1,board2,board3"
   ]
  },
  {
   "cell_type": "code",
   "execution_count": 110,
   "outputs": [
    {
     "name": "stdout",
     "output_type": "stream",
     "text": [
      "10\n",
      "20\n",
      "24\n"
     ]
    }
   ],
   "source": [
    "def speed_aggregate_height():\n",
    "    for i in range(10000):\n",
    "        height = TetrisUtils.get_aggregate_height(board1)\n",
    "        height = TetrisUtils.get_aggregate_height(board2)\n",
    "        height = TetrisUtils.get_aggregate_height(board3)\n",
    "\n",
    "def speed_hollow_column_count():\n",
    "    for i in range(10000):\n",
    "        height = TetrisUtils.get_hollow_column_count(board1)\n",
    "        height = TetrisUtils.get_hollow_column_count(board2)\n",
    "        height = TetrisUtils.get_hollow_column_count(board3)\n",
    "def speed_row_transition():\n",
    "    for i in range(10000):\n",
    "        height = TetrisUtils.get_row_transition(board1)\n",
    "        height = TetrisUtils.get_row_transition(board2)\n",
    "        height = TetrisUtils.get_row_transition(board3)\n",
    "def speed_col_transition():\n",
    "    for i in range(10000):\n",
    "        height = TetrisUtils.get_col_transition(board1)\n",
    "        height = TetrisUtils.get_col_transition(board2)\n",
    "        height = TetrisUtils.get_col_transition(board3)\n",
    "def speed_get_pit_count():\n",
    "    for i in range(10000):\n",
    "        height = TetrisUtils.get_pit_count(board1)\n",
    "        height = TetrisUtils.get_pit_count(board2)\n",
    "        height = TetrisUtils.get_pit_count(board3)\n",
    "\n",
    "def speed_get_bumpiness():\n",
    "    for i in range(10000):\n",
    "        height = TetrisUtils.get_bumpiness(board1)\n",
    "        height = TetrisUtils.get_bumpiness(board2)\n",
    "        height = TetrisUtils.get_bumpiness(board3)\n",
    "def speed_get_board_and_lines_cleared():\n",
    "    for i in range(10000):\n",
    "        height = TetrisUtils.get_board_and_lines_cleared(board1)\n",
    "        height = TetrisUtils.get_board_and_lines_cleared(board2)\n",
    "        height = TetrisUtils.get_board_and_lines_cleared(board3)\n",
    "print(TetrisUtils.get_aggregate_height(board1))\n",
    "print(TetrisUtils.get_aggregate_height(board2))\n",
    "print(TetrisUtils.get_aggregate_height(board3))"
   ],
   "metadata": {
    "collapsed": false,
    "pycharm": {
     "name": "#%%\n"
    }
   }
  },
  {
   "cell_type": "code",
   "execution_count": 111,
   "outputs": [
    {
     "name": "stdout",
     "output_type": "stream",
     "text": [
      "CPU times: total: 172 ms\n",
      "Wall time: 179 ms\n",
      "CPU times: total: 156 ms\n",
      "Wall time: 149 ms\n",
      "CPU times: total: 109 ms\n",
      "Wall time: 115 ms\n",
      "CPU times: total: 203 ms\n",
      "Wall time: 211 ms\n",
      "CPU times: total: 125 ms\n",
      "Wall time: 115 ms\n",
      "CPU times: total: 188 ms\n",
      "Wall time: 187 ms\n",
      "CPU times: total: 15.6 ms\n",
      "Wall time: 17 ms\n"
     ]
    }
   ],
   "source": [
    "%time speed_aggregate_height()\n",
    "%time  speed_hollow_column_count()\n",
    "%time speed_row_transition()\n",
    "%time speed_col_transition()\n",
    "%time speed_get_pit_count()\n",
    "%time speed_get_bumpiness()\n",
    "%time speed_get_board_and_lines_cleared()"
   ],
   "metadata": {
    "collapsed": false,
    "pycharm": {
     "name": "#%%\n"
    }
   }
  },
  {
   "cell_type": "markdown",
   "source": [
    "# Numpy version"
   ],
   "metadata": {
    "collapsed": false
   }
  },
  {
   "cell_type": "code",
   "execution_count": 112,
   "outputs": [],
   "source": [
    "import numpy as np"
   ],
   "metadata": {
    "collapsed": false,
    "pycharm": {
     "name": "#%%\n"
    }
   }
  },
  {
   "cell_type": "code",
   "execution_count": 113,
   "outputs": [
    {
     "data": {
      "text/plain": "array([[0, 0, 0, 0, 0, 0, 0, 0, 0, 0, 0, 0],\n       [0, 0, 0, 0, 0, 0, 0, 0, 0, 0, 0, 0],\n       [0, 0, 0, 0, 0, 0, 0, 0, 0, 0, 0, 0],\n       [0, 0, 0, 0, 0, 0, 0, 0, 0, 0, 0, 0],\n       [0, 0, 0, 0, 0, 0, 0, 0, 0, 0, 0, 0],\n       [0, 0, 1, 1, 1, 0, 0, 1, 0, 0, 0, 0],\n       [1, 1, 1, 0, 1, 0, 0, 1, 0, 0, 0, 0]])"
     },
     "execution_count": 113,
     "metadata": {},
     "output_type": "execute_result"
    }
   ],
   "source": [
    "board1 = np.array(board1)\n",
    "board2 = np.array(board2)\n",
    "board3 = np.array(board3)\n",
    "board1\n",
    "\n"
   ],
   "metadata": {
    "collapsed": false,
    "pycharm": {
     "name": "#%%\n"
    }
   }
  },
  {
   "cell_type": "code",
   "execution_count": 114,
   "outputs": [
    {
     "data": {
      "text/plain": "10"
     },
     "execution_count": 114,
     "metadata": {},
     "output_type": "execute_result"
    }
   ],
   "source": [
    "board1.nonzero()\n",
    "boolean_board = board1.astype(bool)\n",
    "\n",
    "height = board1.shape[0] - np.argmax(boolean_board,axis=0)\n",
    "#board1.shape[0]\n",
    "height\n",
    "\n",
    "height[height==board1.shape[0]] = 0\n",
    "height\n",
    "np.sum(height)\n",
    "#height = np.where(height!=board1.shape[0])\n",
    "#height\n",
    "#sum(np.count_nonzero(board1,axis=0))"
   ],
   "metadata": {
    "collapsed": false,
    "pycharm": {
     "name": "#%%\n"
    }
   }
  },
  {
   "cell_type": "code",
   "execution_count": 115,
   "outputs": [
    {
     "data": {
      "text/plain": "1"
     },
     "execution_count": 115,
     "metadata": {},
     "output_type": "execute_result"
    }
   ],
   "source": [
    "board1[5,2]"
   ],
   "metadata": {
    "collapsed": false,
    "pycharm": {
     "name": "#%%\n"
    }
   }
  },
  {
   "cell_type": "code",
   "execution_count": 116,
   "outputs": [
    {
     "name": "stdout",
     "output_type": "stream",
     "text": [
      "10\n",
      "20\n",
      "24\n"
     ]
    }
   ],
   "source": [
    "def aggregate_height(board):\n",
    "    board_len = board.shape[0]\n",
    "    boolean_board = board.astype(bool)\n",
    "    height = board_len - np.argmax(boolean_board,axis=0)\n",
    "    height[height==board_len] = 0\n",
    "    return np.sum(height)\n",
    "\n",
    "print(aggregate_height(board1))\n",
    "print(aggregate_height(board2))\n",
    "print(aggregate_height(board3))"
   ],
   "metadata": {
    "collapsed": false,
    "pycharm": {
     "name": "#%%\n"
    }
   }
  },
  {
   "cell_type": "code",
   "execution_count": 117,
   "outputs": [],
   "source": [
    "def numpy_aggregate_height():\n",
    "    for i in range(10000):\n",
    "        height = aggregate_height(board1)\n",
    "        height = aggregate_height(board2)\n",
    "        height = aggregate_height(board3)"
   ],
   "metadata": {
    "collapsed": false,
    "pycharm": {
     "name": "#%%\n"
    }
   }
  },
  {
   "cell_type": "code",
   "execution_count": 118,
   "outputs": [
    {
     "name": "stdout",
     "output_type": "stream",
     "text": [
      "CPU times: total: 266 ms\n",
      "Wall time: 260 ms\n"
     ]
    }
   ],
   "source": [
    "%time numpy_aggregate_height()"
   ],
   "metadata": {
    "collapsed": false,
    "pycharm": {
     "name": "#%%\n"
    }
   }
  },
  {
   "cell_type": "markdown",
   "source": [
    "# Speedy version"
   ],
   "metadata": {
    "collapsed": false
   }
  },
  {
   "cell_type": "code",
   "execution_count": 119,
   "outputs": [],
   "source": [
    "from numba import jit,prange\n",
    "from numba.typed import List"
   ],
   "metadata": {
    "collapsed": false,
    "pycharm": {
     "name": "#%%\n"
    }
   }
  },
  {
   "cell_type": "code",
   "execution_count": 120,
   "outputs": [],
   "source": [
    "numba_board1 = List(board1)\n",
    "numba_board2 = List(board2)\n",
    "numba_board3 = List(board3)"
   ],
   "metadata": {
    "collapsed": false,
    "pycharm": {
     "name": "#%%\n"
    }
   }
  },
  {
   "cell_type": "code",
   "execution_count": 121,
   "outputs": [],
   "source": [
    "@jit(nopython=True)\n",
    "def get_aggregate_height(board: List) -> int:\n",
    "    GRID_COL_COUNT = len(board[0])\n",
    "    GRID_ROW_COUNT = len(board)\n",
    "    aggregate_height = 0\n",
    "    column_checked = List()\n",
    "    for row in range(GRID_ROW_COUNT):\n",
    "        for col in range(GRID_COL_COUNT):\n",
    "            if not (col in column_checked) and board[row][col] != 0:\n",
    "                height = len(board) - row\n",
    "                aggregate_height += height\n",
    "                column_checked.append(col)\n",
    "\n",
    "    return aggregate_height\n",
    "\n",
    "\n",
    "height = get_aggregate_height(numba_board1)"
   ],
   "metadata": {
    "collapsed": false,
    "pycharm": {
     "name": "#%%\n"
    }
   }
  },
  {
   "cell_type": "code",
   "execution_count": 122,
   "outputs": [],
   "source": [
    "def loop_speedy():\n",
    "    for i in range(10000):\n",
    "        height = get_aggregate_height(numba_board1)\n",
    "        height = get_aggregate_height(numba_board2)\n",
    "        height = get_aggregate_height(numba_board3)"
   ],
   "metadata": {
    "collapsed": false,
    "pycharm": {
     "name": "#%%\n"
    }
   }
  },
  {
   "cell_type": "code",
   "execution_count": 123,
   "outputs": [
    {
     "name": "stdout",
     "output_type": "stream",
     "text": [
      "CPU times: total: 62.5 ms\n",
      "Wall time: 68.9 ms\n"
     ]
    }
   ],
   "source": [
    "%time loop_speedy()"
   ],
   "metadata": {
    "collapsed": false,
    "pycharm": {
     "name": "#%%\n"
    }
   }
  },
  {
   "cell_type": "markdown",
   "source": [
    "## Col transition"
   ],
   "metadata": {
    "collapsed": false
   }
  },
  {
   "cell_type": "code",
   "execution_count": 124,
   "outputs": [],
   "source": [
    "@jit(nopython=True)\n",
    "def get_col_transition(board):\n",
    "    GRID_COL_COUNT = len(board[0])\n",
    "    GRID_ROW_COUNT = len(board)\n",
    "\n",
    "    nb_col_transition = 0\n",
    "    for col in range(GRID_COL_COUNT):\n",
    "        is_empty = True if board[0][col] == 0 else False\n",
    "        for row in range(GRID_ROW_COUNT):\n",
    "            if board[row][col] == 0 and not is_empty:\n",
    "                nb_col_transition += 1\n",
    "                is_empty = True\n",
    "            elif board[row][col] != 0 and is_empty:\n",
    "                nb_col_transition += 1\n",
    "                is_empty = False\n",
    "    return nb_col_transition\n",
    "\n",
    "\n",
    "height = get_col_transition(numba_board1)"
   ],
   "metadata": {
    "collapsed": false,
    "pycharm": {
     "name": "#%%\n"
    }
   }
  },
  {
   "cell_type": "code",
   "execution_count": 125,
   "outputs": [],
   "source": [
    "def loop_speedy_col_trans():\n",
    "    for i in range(10000):\n",
    "        height = get_col_transition(numba_board1)\n",
    "        height = get_col_transition(numba_board2)\n",
    "        height = get_col_transition(numba_board3)"
   ],
   "metadata": {
    "collapsed": false,
    "pycharm": {
     "name": "#%%\n"
    }
   }
  },
  {
   "cell_type": "code",
   "execution_count": 126,
   "outputs": [
    {
     "name": "stdout",
     "output_type": "stream",
     "text": [
      "CPU times: total: 93.8 ms\n",
      "Wall time: 75.1 ms\n"
     ]
    }
   ],
   "source": [
    "%time loop_speedy_col_trans()"
   ],
   "metadata": {
    "collapsed": false,
    "pycharm": {
     "name": "#%%\n"
    }
   }
  },
  {
   "cell_type": "markdown",
   "source": [
    "### Parralel"
   ],
   "metadata": {
    "collapsed": false
   }
  },
  {
   "cell_type": "code",
   "execution_count": 133,
   "outputs": [],
   "source": [
    "@jit(nopython=True)\n",
    "def get_col_transition_parallel(board):\n",
    "    GRID_COL_COUNT = len(board[0])\n",
    "    GRID_ROW_COUNT = len(board)\n",
    "\n",
    "    nb_col_transition = 0\n",
    "    col_transitions = np.zeros(GRID_ROW_COUNT)\n",
    "\n",
    "    for row in range(GRID_ROW_COUNT):\n",
    "        for col in prange(GRID_COL_COUNT):\n",
    "            col_transition = 0\n",
    "            if (board[row][col] == 0 and board[row][col+1] !=0) or (board[row][col] != 0 and board[row][col+1] ==0) :\n",
    "                col_transitions[row]+=1\n",
    "\n",
    "    return col_transitions.sum()\n",
    "\n",
    "height = get_col_transition_parallel(numba_board1)"
   ],
   "metadata": {
    "collapsed": false,
    "pycharm": {
     "name": "#%%\n"
    }
   }
  },
  {
   "cell_type": "code",
   "execution_count": 134,
   "outputs": [],
   "source": [
    "def loop_speedy_col_trans_par():\n",
    "    for i in range(10000):\n",
    "        height = get_col_transition_parallel(numba_board1)\n",
    "        height = get_col_transition_parallel(numba_board2)\n",
    "        height = get_col_transition_parallel(numba_board3)"
   ],
   "metadata": {
    "collapsed": false,
    "pycharm": {
     "name": "#%%\n"
    }
   }
  },
  {
   "cell_type": "code",
   "execution_count": 135,
   "outputs": [
    {
     "name": "stdout",
     "output_type": "stream",
     "text": [
      "CPU times: total: 62.5 ms\n",
      "Wall time: 60.1 ms\n"
     ]
    }
   ],
   "source": [
    "%time loop_speedy_col_trans_par()"
   ],
   "metadata": {
    "collapsed": false,
    "pycharm": {
     "name": "#%%\n"
    }
   }
  }
 ],
 "metadata": {
  "kernelspec": {
   "display_name": "Python 3",
   "language": "python",
   "name": "python3"
  },
  "language_info": {
   "codemirror_mode": {
    "name": "ipython",
    "version": 2
   },
   "file_extension": ".py",
   "mimetype": "text/x-python",
   "name": "python",
   "nbconvert_exporter": "python",
   "pygments_lexer": "ipython2",
   "version": "2.7.6"
  }
 },
 "nbformat": 4,
 "nbformat_minor": 0
}