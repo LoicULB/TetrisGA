{
 "cells": [
  {
   "cell_type": "code",
   "execution_count": 29,
   "metadata": {
    "collapsed": true
   },
   "outputs": [],
   "source": [
    "\n",
    "\n",
    "import TetrisUtils\n",
    "from test_TetrisUtils import board1,board2,board3"
   ]
  },
  {
   "cell_type": "code",
   "execution_count": 30,
   "outputs": [
    {
     "name": "stdout",
     "output_type": "stream",
     "text": [
      "10\n",
      "20\n",
      "24\n"
     ]
    }
   ],
   "source": [
    "def speed_aggregate_height():\n",
    "    for i in range(10000):\n",
    "        height = TetrisUtils.get_aggregate_height(board1)\n",
    "        height = TetrisUtils.get_aggregate_height(board2)\n",
    "        height = TetrisUtils.get_aggregate_height(board3)\n",
    "\n",
    "def speed_hollow_column_count():\n",
    "    for i in range(10000):\n",
    "        height = TetrisUtils.get_hollow_column_count(board1)\n",
    "        height = TetrisUtils.get_hollow_column_count(board2)\n",
    "        height = TetrisUtils.get_hollow_column_count(board3)\n",
    "def speed_row_transition():\n",
    "    for i in range(10000):\n",
    "        height = TetrisUtils.get_row_transition(board1)\n",
    "        height = TetrisUtils.get_row_transition(board2)\n",
    "        height = TetrisUtils.get_row_transition(board3)\n",
    "def speed_col_transition():\n",
    "    for i in range(10000):\n",
    "        height = TetrisUtils.get_col_transition(board1)\n",
    "        height = TetrisUtils.get_col_transition(board2)\n",
    "        height = TetrisUtils.get_col_transition(board3)\n",
    "print(TetrisUtils.get_aggregate_height(board1))\n",
    "print(TetrisUtils.get_aggregate_height(board2))\n",
    "print(TetrisUtils.get_aggregate_height(board3))"
   ],
   "metadata": {
    "collapsed": false,
    "pycharm": {
     "name": "#%%\n"
    }
   }
  },
  {
   "cell_type": "code",
   "execution_count": 31,
   "outputs": [
    {
     "name": "stdout",
     "output_type": "stream",
     "text": [
      "CPU times: total: 203 ms\n",
      "Wall time: 182 ms\n",
      "CPU times: total: 156 ms\n",
      "Wall time: 153 ms\n",
      "CPU times: total: 109 ms\n",
      "Wall time: 115 ms\n",
      "CPU times: total: 219 ms\n",
      "Wall time: 212 ms\n"
     ]
    }
   ],
   "source": [
    "%time speed_aggregate_height()\n",
    "%time  speed_hollow_column_count()\n",
    "%time speed_row_transition()\n",
    "%time speed_col_transition()"
   ],
   "metadata": {
    "collapsed": false,
    "pycharm": {
     "name": "#%%\n"
    }
   }
  },
  {
   "cell_type": "markdown",
   "source": [
    "# Numpy version"
   ],
   "metadata": {
    "collapsed": false
   }
  },
  {
   "cell_type": "code",
   "execution_count": 32,
   "outputs": [],
   "source": [
    "import numpy as np"
   ],
   "metadata": {
    "collapsed": false,
    "pycharm": {
     "name": "#%%\n"
    }
   }
  },
  {
   "cell_type": "code",
   "execution_count": 33,
   "outputs": [
    {
     "data": {
      "text/plain": "array([[0, 0, 0, 0, 0, 0, 0, 0, 0, 0, 0, 0],\n       [0, 0, 0, 0, 0, 0, 0, 0, 0, 0, 0, 0],\n       [0, 0, 0, 0, 0, 0, 0, 0, 0, 0, 0, 0],\n       [0, 0, 0, 0, 0, 0, 0, 0, 0, 0, 0, 0],\n       [0, 0, 0, 0, 0, 0, 0, 0, 0, 0, 0, 0],\n       [0, 0, 1, 1, 1, 0, 0, 1, 0, 0, 0, 0],\n       [1, 1, 1, 0, 1, 0, 0, 1, 0, 0, 0, 0]])"
     },
     "execution_count": 33,
     "metadata": {},
     "output_type": "execute_result"
    }
   ],
   "source": [
    "board1 = np.array(board1)\n",
    "board2 = np.array(board2)\n",
    "board3 = np.array(board3)\n",
    "board1\n",
    "\n"
   ],
   "metadata": {
    "collapsed": false,
    "pycharm": {
     "name": "#%%\n"
    }
   }
  },
  {
   "cell_type": "code",
   "execution_count": 34,
   "outputs": [
    {
     "data": {
      "text/plain": "10"
     },
     "execution_count": 34,
     "metadata": {},
     "output_type": "execute_result"
    }
   ],
   "source": [
    "board1.nonzero()\n",
    "boolean_board = board1.astype(bool)\n",
    "\n",
    "height = board1.shape[0] - np.argmax(boolean_board,axis=0)\n",
    "#board1.shape[0]\n",
    "height\n",
    "\n",
    "height[height==board1.shape[0]] = 0\n",
    "height\n",
    "np.sum(height)\n",
    "#height = np.where(height!=board1.shape[0])\n",
    "#height\n",
    "#sum(np.count_nonzero(board1,axis=0))"
   ],
   "metadata": {
    "collapsed": false,
    "pycharm": {
     "name": "#%%\n"
    }
   }
  },
  {
   "cell_type": "code",
   "execution_count": 35,
   "outputs": [
    {
     "data": {
      "text/plain": "1"
     },
     "execution_count": 35,
     "metadata": {},
     "output_type": "execute_result"
    }
   ],
   "source": [
    "board1[5,2]"
   ],
   "metadata": {
    "collapsed": false,
    "pycharm": {
     "name": "#%%\n"
    }
   }
  },
  {
   "cell_type": "code",
   "execution_count": 36,
   "outputs": [
    {
     "name": "stdout",
     "output_type": "stream",
     "text": [
      "10\n",
      "20\n",
      "24\n"
     ]
    }
   ],
   "source": [
    "def aggregate_height(board):\n",
    "    board_len = board.shape[0]\n",
    "    boolean_board = board.astype(bool)\n",
    "    height = board_len - np.argmax(boolean_board,axis=0)\n",
    "    height[height==board_len] = 0\n",
    "    return np.sum(height)\n",
    "\n",
    "print(aggregate_height(board1))\n",
    "print(aggregate_height(board2))\n",
    "print(aggregate_height(board3))"
   ],
   "metadata": {
    "collapsed": false,
    "pycharm": {
     "name": "#%%\n"
    }
   }
  },
  {
   "cell_type": "code",
   "execution_count": 37,
   "outputs": [],
   "source": [
    "def numpy_aggregate_height():\n",
    "    for i in range(10000):\n",
    "        height = aggregate_height(board1)\n",
    "        height = aggregate_height(board2)\n",
    "        height = aggregate_height(board3)"
   ],
   "metadata": {
    "collapsed": false,
    "pycharm": {
     "name": "#%%\n"
    }
   }
  },
  {
   "cell_type": "code",
   "execution_count": 38,
   "outputs": [
    {
     "name": "stdout",
     "output_type": "stream",
     "text": [
      "CPU times: total: 266 ms\n",
      "Wall time: 256 ms\n"
     ]
    }
   ],
   "source": [
    "%time numpy_aggregate_height()"
   ],
   "metadata": {
    "collapsed": false,
    "pycharm": {
     "name": "#%%\n"
    }
   }
  },
  {
   "cell_type": "markdown",
   "source": [
    "# Speedy version"
   ],
   "metadata": {
    "collapsed": false
   }
  },
  {
   "cell_type": "code",
   "execution_count": 39,
   "outputs": [],
   "source": [
    "from numba import jit\n",
    "from numba.typed import List"
   ],
   "metadata": {
    "collapsed": false,
    "pycharm": {
     "name": "#%%\n"
    }
   }
  },
  {
   "cell_type": "code",
   "execution_count": 40,
   "outputs": [],
   "source": [
    "@jit(nopython=True)\n",
    "def get_aggregate_height(board: List) -> int:\n",
    "    GRID_COL_COUNT = len(board[0])\n",
    "    GRID_ROW_COUNT = len(board)\n",
    "    aggregate_height = 0\n",
    "    column_checked = List()\n",
    "    for row in range(GRID_ROW_COUNT):\n",
    "        for col in range(GRID_COL_COUNT):\n",
    "            if not (col in column_checked) and board[row][col] != 0:\n",
    "                height = len(board) - row\n",
    "                aggregate_height += height\n",
    "                column_checked.append(col)\n",
    "\n",
    "    return aggregate_height\n",
    "\n",
    "board1 = List(board1)\n",
    "board2 = List(board2)\n",
    "board3 = List(board3)\n",
    "height = get_aggregate_height(board1)"
   ],
   "metadata": {
    "collapsed": false,
    "pycharm": {
     "name": "#%%\n"
    }
   }
  },
  {
   "cell_type": "code",
   "execution_count": 41,
   "outputs": [],
   "source": [
    "def loop_speedy():\n",
    "    for i in range(10000):\n",
    "        height = get_aggregate_height(board1)\n",
    "        height = get_aggregate_height(board2)\n",
    "        height = get_aggregate_height(board3)"
   ],
   "metadata": {
    "collapsed": false,
    "pycharm": {
     "name": "#%%\n"
    }
   }
  },
  {
   "cell_type": "code",
   "execution_count": 42,
   "outputs": [
    {
     "name": "stdout",
     "output_type": "stream",
     "text": [
      "CPU times: total: 62.5 ms\n",
      "Wall time: 64.1 ms\n"
     ]
    }
   ],
   "source": [
    "%time loop_speedy()"
   ],
   "metadata": {
    "collapsed": false,
    "pycharm": {
     "name": "#%%\n"
    }
   }
  }
 ],
 "metadata": {
  "kernelspec": {
   "display_name": "Python 3",
   "language": "python",
   "name": "python3"
  },
  "language_info": {
   "codemirror_mode": {
    "name": "ipython",
    "version": 2
   },
   "file_extension": ".py",
   "mimetype": "text/x-python",
   "name": "python",
   "nbconvert_exporter": "python",
   "pygments_lexer": "ipython2",
   "version": "2.7.6"
  }
 },
 "nbformat": 4,
 "nbformat_minor": 0
}